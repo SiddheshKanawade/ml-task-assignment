{
 "cells": [
  {
   "cell_type": "code",
   "execution_count": 1,
   "metadata": {},
   "outputs": [],
   "source": [
    "import random\n",
    "import numpy as np\n",
    "from datetime import datetime\n",
    "\n",
    "from constants import *"
   ]
  },
  {
   "attachments": {},
   "cell_type": "markdown",
   "metadata": {},
   "source": [
    "Question 1\n",
    "\n",
    "How many multiplications and additions do you need to perform a matrix multiplication between a (n, k) and (k, m) matrix? Explain\n",
    "\n",
    "Answer:\n",
    "\n",
    "matrix_multiplication = row * col \\\n",
    "total_multiplication = col_a* col_b * row_a \\\n",
    "total_addition = (col_a-1) * col_b * row_a"
   ]
  },
  {
   "attachments": {},
   "cell_type": "markdown",
   "metadata": {},
   "source": [
    "Question 2\n",
    "\n",
    "Write Python code to multiply the above two matrices. Solve using list of lists and then use numpy. Compare the timing of both solutions. Which one is faster? Why?"
   ]
  },
  {
   "cell_type": "code",
   "execution_count": 2,
   "metadata": {},
   "outputs": [],
   "source": [
    "def matrix_multiplication(mat_a, mat_b):\n",
    "    try:\n",
    "        start = datetime.now()\n",
    "        if len(mat_a[0]) != len(mat_b):\n",
    "            raise Exception(\"Matrix multiplication can't be performed\")\n",
    "        result_row = len(mat_a)\n",
    "        result_col = len(mat_b[0])\n",
    "        result = [[0 for col in range(result_col)] for row in range(result_row)]\n",
    "        for row in range(len(mat_a)):\n",
    "            for col in range(len(mat_b[0])):\n",
    "                for k in range(len(mat_b)):\n",
    "                    result[row][col] += mat_a[row][k] * mat_b[k][col]\n",
    "        end = datetime.now()\n",
    "        time_elapsed = end-start\n",
    "        print(f\"Total Time elapsed: {time_elapsed.total_seconds()}\")\n",
    "        return result\n",
    "    except Exception as e:\n",
    "        print(e)\n",
    "        \n",
    "def matrix_multiplication_numpy(mat_a, mat_b):\n",
    "    start = datetime.now()\n",
    "    result = np.matmul(mat_a,mat_b)\n",
    "    end = datetime.now()\n",
    "    time_elapsed = end-start\n",
    "    print(f\"Total Time elapsed using numpy: {time_elapsed.total_seconds()}\")\n",
    "    return result\n",
    "    "
   ]
  },
  {
   "cell_type": "code",
   "execution_count": 3,
   "metadata": {},
   "outputs": [
    {
     "name": "stdout",
     "output_type": "stream",
     "text": [
      "Total Time elapsed: 5e-05\n",
      "Total Time elapsed using numpy: 4.9e-05\n"
     ]
    }
   ],
   "source": [
    "row_a, col_a = SIZE_MATA\n",
    "row_b, col_b = SIZE_MATB\n",
    "mat_a = [[random.randint(1, 100) for col in range(col_a)] for row in range(row_a)]\n",
    "mat_b = [[random.randint(1, 100) for col in range(col_b)] for row in range(row_b)]\n",
    "\n",
    "result = matrix_multiplication(mat_a, mat_b)\n",
    "result_numpy = matrix_multiplication_numpy(mat_a, mat_b)"
   ]
  },
  {
   "attachments": {},
   "cell_type": "markdown",
   "metadata": {},
   "source": [
    "Question 3:\n",
    "\n",
    "Finding the highest element in a list requires one pass of the array. Finding the second highest element requires 2 passes of the the array. Using this method, what is the time complexity of finding the median of the array? Can you suggest a better method? Can you implement both these methods in Python and compare against numpy.median routine in terms of time?"
   ]
  },
  {
   "cell_type": "code",
   "execution_count": 4,
   "metadata": {},
   "outputs": [],
   "source": [
    "def get_highest(arr):\n",
    "    highest = -1e9\n",
    "    for item in arr:\n",
    "        if item>highest:\n",
    "            highest = item\n",
    "    return highest\n",
    "\n",
    "def median_brute_force(arr):\n",
    "    start = datetime.now()\n",
    "    n = len(arr)\n",
    "    if n%2==0:\n",
    "        mid_point = int(n/2)\n",
    "    else:\n",
    "        mid_point = int((n+1)/2)\n",
    "    median = None\n",
    "    temp_arr = arr\n",
    "    for i in range(mid_point):\n",
    "        median = get_highest(temp_arr)\n",
    "        temp_arr.remove(median)\n",
    "    end = datetime.now()\n",
    "    time_elapsed = end-start\n",
    "    print(f\"Total Time elapsed using bruteforce: {time_elapsed.total_seconds()}\")\n",
    "    return median\n",
    "\n",
    "def median_optimise(arr):\n",
    "    start = datetime.now()\n",
    "    arr.sort()\n",
    "    n = len(arr)\n",
    "    if n%2==0:\n",
    "        mid_point = int(n/2)\n",
    "    else:\n",
    "        mid_point = int((n+1)/2)\n",
    "    end = datetime.now()\n",
    "    time_elapsed = end-start\n",
    "    print(f\"Total Time elapsed: {time_elapsed.total_seconds()}\")\n",
    "    return arr[mid_point-1]\n",
    "\n",
    "def median_numpy(arr):\n",
    "    start = datetime.now()\n",
    "    end = datetime.now()\n",
    "    time_elapsed = end-start\n",
    "    print(f\"Total Time elapsed using numpy: {time_elapsed.total_seconds()}\")\n",
    "    return np.median(arr)"
   ]
  },
  {
   "cell_type": "code",
   "execution_count": 6,
   "metadata": {},
   "outputs": [
    {
     "name": "stdout",
     "output_type": "stream",
     "text": [
      "Total Time elapsed using bruteforce: 3.5e-05\n",
      "Total Time elapsed: 4e-06\n",
      "Total Time elapsed using numpy: 1e-06\n",
      "57 57 57.0\n"
     ]
    }
   ],
   "source": [
    "arr = [random.randint(1, 100) for n in range(SIZE_ARRAY)]\n",
    "arr_opt = arr.copy()\n",
    "arr_np = arr.copy()\n",
    "median_bf = median_brute_force(arr=arr)\n",
    "median_opt = median_optimise(arr_opt)\n",
    "median_np = median_numpy(arr_np)\n",
    "print(median_bf, median_opt, median_np)"
   ]
  },
  {
   "cell_type": "code",
   "execution_count": 6,
   "metadata": {},
   "outputs": [
    {
     "data": {
      "text/plain": [
       "5.0"
      ]
     },
     "execution_count": 6,
     "metadata": {},
     "output_type": "execute_result"
    }
   ],
   "source": []
  },
  {
   "cell_type": "code",
   "execution_count": 7,
   "metadata": {},
   "outputs": [
    {
     "name": "stdout",
     "output_type": "stream",
     "text": [
      "0\n",
      "1\n",
      "2\n",
      "3\n",
      "4\n",
      "5\n",
      "6\n",
      "7\n",
      "8\n"
     ]
    }
   ],
   "source": []
  },
  {
   "cell_type": "code",
   "execution_count": null,
   "metadata": {},
   "outputs": [],
   "source": []
  }
 ],
 "metadata": {
  "kernelspec": {
   "display_name": "ml-assignment",
   "language": "python",
   "name": "python3"
  },
  "language_info": {
   "codemirror_mode": {
    "name": "ipython",
    "version": 3
   },
   "file_extension": ".py",
   "mimetype": "text/x-python",
   "name": "python",
   "nbconvert_exporter": "python",
   "pygments_lexer": "ipython3",
   "version": "3.9.15"
  },
  "orig_nbformat": 4,
  "vscode": {
   "interpreter": {
    "hash": "bb9e6c13ab73f0c81e8c112094d5e9b80705e8878a05e59a9d27f18c12cf7978"
   }
  }
 },
 "nbformat": 4,
 "nbformat_minor": 2
}
